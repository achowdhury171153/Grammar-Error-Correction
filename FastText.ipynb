{
  "nbformat": 4,
  "nbformat_minor": 0,
  "metadata": {
    "colab": {
      "name": "FastText.ipynb",
      "provenance": [],
      "private_outputs": true
    },
    "kernelspec": {
      "name": "python3",
      "display_name": "Python 3"
    }
  },
  "cells": [
    {
      "cell_type": "code",
      "metadata": {
        "id": "F4psi5DkjiFe",
        "colab_type": "code",
        "colab": {}
      },
      "source": [
        "import pandas as pd\n",
        "from google.colab import files\n",
        "uploaded = files.upload()"
      ],
      "execution_count": null,
      "outputs": []
    },
    {
      "cell_type": "code",
      "metadata": {
        "id": "-aVmZXKVjrS-",
        "colab_type": "code",
        "colab": {}
      },
      "source": [
        "import io\n",
        "data = pd.read_csv(io.BytesIO(uploaded['data.csv']))"
      ],
      "execution_count": null,
      "outputs": []
    },
    {
      "cell_type": "code",
      "metadata": {
        "id": "F5E_P9FEiiIQ",
        "colab_type": "code",
        "colab": {}
      },
      "source": [
        "pip install --upgrade gensim"
      ],
      "execution_count": null,
      "outputs": []
    },
    {
      "cell_type": "code",
      "metadata": {
        "id": "3a07fe7-iXpe",
        "colab_type": "code",
        "colab": {}
      },
      "source": [
        "import pandas as pd  # For data handling\n",
        "\n",
        "\n",
        "from gensim.models import Word2Vec\n",
        "from gensim.models import FastText\n"
      ],
      "execution_count": null,
      "outputs": []
    },
    {
      "cell_type": "code",
      "metadata": {
        "id": "7VcIJvADi4cf",
        "colab_type": "code",
        "colab": {}
      },
      "source": [
        "df = pd.read_csv('data.csv')\n",
        "df.head()"
      ],
      "execution_count": null,
      "outputs": []
    },
    {
      "cell_type": "code",
      "metadata": {
        "id": "HMceCqhNkLC2",
        "colab_type": "code",
        "colab": {}
      },
      "source": [
        "df['Maker_Model']= df['Make']+ \" \" + df['Model']"
      ],
      "execution_count": null,
      "outputs": []
    },
    {
      "cell_type": "code",
      "metadata": {
        "id": "HDNpZi9LFHRv",
        "colab_type": "code",
        "colab": {}
      },
      "source": [
        "df1 = df[['Engine Fuel Type','Transmission Type','Driven_Wheels','Market Category','Vehicle Size', 'Vehicle Style', 'Maker_Model']]"
      ],
      "execution_count": null,
      "outputs": []
    },
    {
      "cell_type": "code",
      "metadata": {
        "id": "3d5KAruKkMBe",
        "colab_type": "code",
        "colab": {}
      },
      "source": [
        "df2 = df1.apply(lambda x: ','.join(x.astype(str)), axis=1)"
      ],
      "execution_count": null,
      "outputs": []
    },
    {
      "cell_type": "code",
      "metadata": {
        "id": "jAPzY7GhkaVV",
        "colab_type": "code",
        "colab": {}
      },
      "source": [
        "df_clean = pd.DataFrame({'clean': df2})"
      ],
      "execution_count": null,
      "outputs": []
    },
    {
      "cell_type": "code",
      "metadata": {
        "id": "vARgnKUjkk2V",
        "colab_type": "code",
        "colab": {}
      },
      "source": [
        "sent = [row.split(',') for row in df_clean['clean']]"
      ],
      "execution_count": null,
      "outputs": []
    },
    {
      "cell_type": "code",
      "metadata": {
        "id": "fd-x_d01kont",
        "colab_type": "code",
        "colab": {}
      },
      "source": [
        "sent[:2]"
      ],
      "execution_count": null,
      "outputs": []
    },
    {
      "cell_type": "code",
      "metadata": {
        "id": "-MbPtYw_ktH9",
        "colab_type": "code",
        "colab": {}
      },
      "source": [
        " model = FastText(sent, min_count=1,size= 50,workers=3, window =3, sg = 1) "
      ],
      "execution_count": null,
      "outputs": []
    },
    {
      "cell_type": "code",
      "metadata": {
        "id": "g9CbGgiakt1F",
        "colab_type": "code",
        "colab": {}
      },
      "source": [
        "model['Toyota']"
      ],
      "execution_count": null,
      "outputs": []
    },
    {
      "cell_type": "code",
      "metadata": {
        "id": "K_WRAKAIkv3u",
        "colab_type": "code",
        "colab": {}
      },
      "source": [
        "model.wv.similarity('Toyota', 'Brand')"
      ],
      "execution_count": null,
      "outputs": []
    },
    {
      "cell_type": "code",
      "metadata": {
        "id": "sycAUKA9k0f9",
        "colab_type": "code",
        "colab": {}
      },
      "source": [
        "model.wv.most_similar('toyouta')[:5]"
      ],
      "execution_count": null,
      "outputs": []
    },
    {
      "cell_type": "code",
      "metadata": {
        "id": "G58CwF5alf5w",
        "colab_type": "code",
        "colab": {}
      },
      "source": [
        "#model = FastText(sent, min_count=1,size= 50,workers=3, window =3, sg = 1)\n",
        "model['Toyota Camry']"
      ],
      "execution_count": null,
      "outputs": []
    },
    {
      "cell_type": "code",
      "metadata": {
        "id": "oXjPstPilrpG",
        "colab_type": "code",
        "colab": {}
      },
      "source": [
        "model.similarity('Porsche 718 Cayman', 'Nissan Van')"
      ],
      "execution_count": null,
      "outputs": []
    },
    {
      "cell_type": "code",
      "metadata": {
        "id": "78-3oa6WlveV",
        "colab_type": "code",
        "colab": {}
      },
      "source": [
        "model.similarity('Porsche 718 Cayman', 'Mercedes-Benz SLK-Class')"
      ],
      "execution_count": null,
      "outputs": []
    },
    {
      "cell_type": "code",
      "metadata": {
        "id": "oPb660-plxo1",
        "colab_type": "code",
        "colab": {}
      },
      "source": [
        "model.most_similar('Mercedes-Benz SLK-Class')[:5]"
      ],
      "execution_count": null,
      "outputs": []
    },
    {
      "cell_type": "code",
      "metadata": {
        "id": "GkUSJteJk23d",
        "colab_type": "code",
        "colab": {}
      },
      "source": [
        "from keras.layers import dot\n",
        "import numpy as np\n",
        "\n",
        "def cosine_distance (model, word,target_list , num) :\n",
        "    cosine_dict ={}\n",
        "    word_list = []\n",
        "    a = model.wv[word]\n",
        "    for item in target_list :\n",
        "        if item != word :\n",
        "            b = model.wv[item]\n",
        "            cos_sim = dot(a, b)/(norm(a)*norm(b))\n",
        "            cosine_dict[item] = cos_sim\n",
        "    dist_sort=sorted(cosine_dict.items(), key=lambda dist: dist[1],reverse = True) ## in Descedning order \n",
        "    for item in dist_sort:\n",
        "        word_list.append((item[0], item[1]))\n",
        "    return word_list[0:num]"
      ],
      "execution_count": null,
      "outputs": []
    },
    {
      "cell_type": "code",
      "metadata": {
        "id": "Azx7vXtBk549",
        "colab_type": "code",
        "colab": {}
      },
      "source": [
        "Maker_Model = list(df.Maker_Model.unique()) "
      ],
      "execution_count": null,
      "outputs": []
    }
  ]
}